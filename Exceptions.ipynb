{
 "cells": [
  {
   "cell_type": "code",
   "execution_count": null,
   "id": "7ba77fc8-fe2d-43c6-b156-1dbd4c39fe6e",
   "metadata": {},
   "outputs": [],
   "source": []
  },
  {
   "cell_type": "code",
   "execution_count": null,
   "id": "7d085fe6-66e3-4dc2-832c-6e807f78f406",
   "metadata": {},
   "outputs": [],
   "source": [
    "if 5<6\n",
    "    print(\"Hello\")"
   ]
  },
  {
   "cell_type": "code",
   "execution_count": 18,
   "id": "7035d6ec-daea-4f97-8366-b8303fc81f26",
   "metadata": {},
   "outputs": [
    {
     "ename": "ValueError",
     "evalue": "invalid literal for int() with base 10: '12a'",
     "output_type": "error",
     "traceback": [
      "\u001b[1;31m---------------------------------------------------------------------------\u001b[0m",
      "\u001b[1;31mValueError\u001b[0m                                Traceback (most recent call last)",
      "Cell \u001b[1;32mIn[18], line 1\u001b[0m\n\u001b[1;32m----> 1\u001b[0m \u001b[38;5;28mprint\u001b[39m(\u001b[38;5;28;43mint\u001b[39;49m\u001b[43m(\u001b[49m\u001b[38;5;124;43m\"\u001b[39;49m\u001b[38;5;124;43m12a\u001b[39;49m\u001b[38;5;124;43m\"\u001b[39;49m\u001b[43m)\u001b[49m)\n\u001b[0;32m      2\u001b[0m \u001b[38;5;66;03m#Value Error: It is raised when a built-in \u001b[39;00m\n\u001b[0;32m      3\u001b[0m \u001b[38;5;66;03m#method or operation receives an argument\u001b[39;00m\n\u001b[0;32m      4\u001b[0m \u001b[38;5;66;03m# that has the right data type but mismatched\u001b[39;00m\n\u001b[0;32m      5\u001b[0m \u001b[38;5;66;03m# or inappropriate values.\u001b[39;00m\n",
      "\u001b[1;31mValueError\u001b[0m: invalid literal for int() with base 10: '12a'"
     ]
    }
   ],
   "source": [
    "print(int(\"12a\"))\n",
    "#Value Error: It is raised when a built-in \n",
    "#method or operation receives an argument\n",
    "# that has the right data type but mismatched\n",
    "# or inappropriate values."
   ]
  },
  {
   "cell_type": "code",
   "execution_count": 19,
   "id": "12176cdf-d561-4e5d-b4be-1bc6f22b8251",
   "metadata": {},
   "outputs": [
    {
     "ename": "ModuleNotFoundError",
     "evalue": "No module named 'statistic'",
     "output_type": "error",
     "traceback": [
      "\u001b[1;31m---------------------------------------------------------------------------\u001b[0m",
      "\u001b[1;31mModuleNotFoundError\u001b[0m                       Traceback (most recent call last)",
      "Cell \u001b[1;32mIn[19], line 1\u001b[0m\n\u001b[1;32m----> 1\u001b[0m \u001b[38;5;28;01mimport\u001b[39;00m \u001b[38;5;21;01mstatistic\u001b[39;00m\n",
      "\u001b[1;31mModuleNotFoundError\u001b[0m: No module named 'statistic'"
     ]
    }
   ],
   "source": [
    "import statistic"
   ]
  },
  {
   "cell_type": "code",
   "execution_count": 23,
   "id": "f5e7ca50-47de-469f-8d2c-08bfcd958c67",
   "metadata": {},
   "outputs": [
    {
     "name": "stdout",
     "output_type": "stream",
     "text": [
      "3\n"
     ]
    }
   ],
   "source": [
    "a = 20\n",
    "b = 6\n",
    "print(a//b)"
   ]
  },
  {
   "cell_type": "code",
   "execution_count": 24,
   "id": "059fa316-027c-4774-b0f6-0ac4b1ae1acb",
   "metadata": {},
   "outputs": [
    {
     "ename": "ZeroDivisionError",
     "evalue": "division by zero",
     "output_type": "error",
     "traceback": [
      "\u001b[1;31m---------------------------------------------------------------------------\u001b[0m",
      "\u001b[1;31mZeroDivisionError\u001b[0m                         Traceback (most recent call last)",
      "Cell \u001b[1;32mIn[24], line 1\u001b[0m\n\u001b[1;32m----> 1\u001b[0m \u001b[43ma\u001b[49m\u001b[38;5;241;43m/\u001b[39;49m\u001b[38;5;241;43m0\u001b[39;49m\n",
      "\u001b[1;31mZeroDivisionError\u001b[0m: division by zero"
     ]
    }
   ],
   "source": [
    "a/0"
   ]
  },
  {
   "cell_type": "code",
   "execution_count": 25,
   "id": "5a1ff99e-c91a-4da8-97cc-0e9662381775",
   "metadata": {},
   "outputs": [
    {
     "ename": "IndexError",
     "evalue": "list index out of range",
     "output_type": "error",
     "traceback": [
      "\u001b[1;31m---------------------------------------------------------------------------\u001b[0m",
      "\u001b[1;31mIndexError\u001b[0m                                Traceback (most recent call last)",
      "Cell \u001b[1;32mIn[25], line 2\u001b[0m\n\u001b[0;32m      1\u001b[0m a \u001b[38;5;241m=\u001b[39m [\u001b[38;5;241m12\u001b[39m,\u001b[38;5;241m89\u001b[39m]\n\u001b[1;32m----> 2\u001b[0m \u001b[38;5;28mprint\u001b[39m(\u001b[43ma\u001b[49m\u001b[43m[\u001b[49m\u001b[38;5;241;43m3\u001b[39;49m\u001b[43m]\u001b[49m)\n",
      "\u001b[1;31mIndexError\u001b[0m: list index out of range"
     ]
    }
   ],
   "source": [
    "a = [12,89]\n",
    "print(a[3])"
   ]
  },
  {
   "cell_type": "code",
   "execution_count": 26,
   "id": "1dce5b95-f2c2-4b92-a463-7f0c1181ef91",
   "metadata": {},
   "outputs": [
    {
     "ename": "NameError",
     "evalue": "name 'abc' is not defined",
     "output_type": "error",
     "traceback": [
      "\u001b[1;31m---------------------------------------------------------------------------\u001b[0m",
      "\u001b[1;31mNameError\u001b[0m                                 Traceback (most recent call last)",
      "Cell \u001b[1;32mIn[26], line 2\u001b[0m\n\u001b[0;32m      1\u001b[0m a \u001b[38;5;241m=\u001b[39m \u001b[38;5;241m90\u001b[39m\n\u001b[1;32m----> 2\u001b[0m \u001b[38;5;28mprint\u001b[39m(\u001b[43mabc\u001b[49m)\n",
      "\u001b[1;31mNameError\u001b[0m: name 'abc' is not defined"
     ]
    }
   ],
   "source": [
    "a = 90\n",
    "print(abc)"
   ]
  },
  {
   "cell_type": "code",
   "execution_count": 27,
   "id": "d0e77a5d-3052-4d49-9d20-4e1b35bdacfb",
   "metadata": {},
   "outputs": [
    {
     "ename": "IndentationError",
     "evalue": "unexpected indent (1859443553.py, line 3)",
     "output_type": "error",
     "traceback": [
      "\u001b[1;36m  Cell \u001b[1;32mIn[27], line 3\u001b[1;36m\u001b[0m\n\u001b[1;33m    print(\"there\")\u001b[0m\n\u001b[1;37m    ^\u001b[0m\n\u001b[1;31mIndentationError\u001b[0m\u001b[1;31m:\u001b[0m unexpected indent\n"
     ]
    }
   ],
   "source": [
    "if 5<6:\n",
    "    print(\"Here\")\n",
    "        print(\"there\")"
   ]
  },
  {
   "cell_type": "code",
   "execution_count": 28,
   "id": "bba07686-3333-4d19-bb6f-ad714bf89578",
   "metadata": {},
   "outputs": [
    {
     "ename": "TypeError",
     "evalue": "unsupported operand type(s) for +: 'int' and 'str'",
     "output_type": "error",
     "traceback": [
      "\u001b[1;31m---------------------------------------------------------------------------\u001b[0m",
      "\u001b[1;31mTypeError\u001b[0m                                 Traceback (most recent call last)",
      "Cell \u001b[1;32mIn[28], line 3\u001b[0m\n\u001b[0;32m      1\u001b[0m a \u001b[38;5;241m=\u001b[39m \u001b[38;5;241m90\u001b[39m\n\u001b[0;32m      2\u001b[0m b \u001b[38;5;241m=\u001b[39m \u001b[38;5;124m\"\u001b[39m\u001b[38;5;124mhello\u001b[39m\u001b[38;5;124m\"\u001b[39m\n\u001b[1;32m----> 3\u001b[0m \u001b[38;5;28mprint\u001b[39m(\u001b[43ma\u001b[49m\u001b[43m \u001b[49m\u001b[38;5;241;43m+\u001b[39;49m\u001b[43m \u001b[49m\u001b[43mb\u001b[49m)\n",
      "\u001b[1;31mTypeError\u001b[0m: unsupported operand type(s) for +: 'int' and 'str'"
     ]
    }
   ],
   "source": [
    "a = 90\n",
    "b = \"hello\"\n",
    "print(a + b)"
   ]
  },
  {
   "cell_type": "code",
   "execution_count": 29,
   "id": "22d3eb73-7814-447b-ba38-4a6785dbddeb",
   "metadata": {},
   "outputs": [
    {
     "name": "stdout",
     "output_type": "stream",
     "text": [
      "0 3.0\n",
      "1 9.0\n",
      "2 81.0\n",
      "3 6561.0\n",
      "4 43046721.0\n",
      "5 1853020188851841.0\n",
      "6 3.4336838202925124e+30\n",
      "7 1.1790184577738583e+61\n",
      "8 1.3900845237714473e+122\n",
      "9 1.9323349832288915e+244\n"
     ]
    },
    {
     "ename": "OverflowError",
     "evalue": "(34, 'Result too large')",
     "output_type": "error",
     "traceback": [
      "\u001b[1;31m---------------------------------------------------------------------------\u001b[0m",
      "\u001b[1;31mOverflowError\u001b[0m                             Traceback (most recent call last)",
      "Cell \u001b[1;32mIn[29], line 5\u001b[0m\n\u001b[0;32m      3\u001b[0m \u001b[38;5;28;01mfor\u001b[39;00m i \u001b[38;5;129;01min\u001b[39;00m \u001b[38;5;28mrange\u001b[39m(\u001b[38;5;241m100\u001b[39m):\n\u001b[0;32m      4\u001b[0m     \u001b[38;5;28mprint\u001b[39m(i, f)\n\u001b[1;32m----> 5\u001b[0m     f \u001b[38;5;241m=\u001b[39m \u001b[43mf\u001b[49m\u001b[43m \u001b[49m\u001b[38;5;241;43m*\u001b[39;49m\u001b[38;5;241;43m*\u001b[39;49m\u001b[43m \u001b[49m\u001b[38;5;241;43m2\u001b[39;49m\n",
      "\u001b[1;31mOverflowError\u001b[0m: (34, 'Result too large')"
     ]
    }
   ],
   "source": [
    "i=1\n",
    "f = 3.0**i\n",
    "for i in range(100):\n",
    "    print(i, f)\n",
    "    f = f ** 2"
   ]
  },
  {
   "cell_type": "code",
   "execution_count": 1,
   "id": "f90b4c46-4c8e-4ec6-83ff-b354b2a50310",
   "metadata": {},
   "outputs": [
    {
     "ename": "SyntaxError",
     "evalue": "default 'except:' must be last (1168099898.py, line 8)",
     "output_type": "error",
     "traceback": [
      "\u001b[1;36m  Cell \u001b[1;32mIn[1], line 8\u001b[1;36m\u001b[0m\n\u001b[1;33m    except:\u001b[0m\n\u001b[1;37m    ^\u001b[0m\n\u001b[1;31mSyntaxError\u001b[0m\u001b[1;31m:\u001b[0m default 'except:' must be last\n"
     ]
    }
   ],
   "source": [
    "def fun1(denom):\n",
    "    count = 0\n",
    "    try:\n",
    "        numerator=50\n",
    "        denom = int(denom)\n",
    "        quotient=(numerator/denom)\n",
    "        count += 1\n",
    "\n",
    "    except ZeroDivisionError:\n",
    "        count += 2\n",
    "    except ValueError:\n",
    "        count += 3\n",
    "    except TypeError:\n",
    "        count += 4\n",
    "    except:\n",
    "        count += 9\n",
    "    finally:\n",
    "        count += 5\n",
    "    print(count)\n",
    "fun1(\"0\")\n",
    "# fun1(\"ab\")"
   ]
  },
  {
   "cell_type": "code",
   "execution_count": null,
   "id": "607b3773-f208-4e24-a034-015c6f9642bc",
   "metadata": {},
   "outputs": [],
   "source": [
    "def fun1(denom):\n",
    "    count = 0\n",
    "    try:\n",
    "        numerator=50\n",
    "        denom = int(denom)\n",
    "        if(denom > 50):\n",
    "            raise NameError\n",
    "        elif(denom < -1):\n",
    "            raise TypeError\n",
    "        quotient=(numerator/denom)\n",
    "        count += 1\n",
    "    except ZeroDivisionError:\n",
    "        count += 2\n",
    "    except ValueError:\n",
    "        count += 3\n",
    "    except TypeError:\n",
    "        count += 4\n",
    "    except:\n",
    "        count += 5\n",
    "    else: ##Executed only when there is no error in try block\n",
    "        count += 6\n",
    "    finally:\n",
    "        count += 7\n",
    "    print(count)\n",
    "# fun1(60)\n",
    "# fun1(30)\n",
    "# fun1(5)"
   ]
  },
  {
   "cell_type": "code",
   "execution_count": null,
   "id": "2a3ee2d8-cac3-4df5-bbb1-1f0e7e14713b",
   "metadata": {},
   "outputs": [],
   "source": [
    "print(\"use of assert statement\")\n",
    "def negativecheck(number):\n",
    "    assert(number>=0), \"OOPS... Negative Number\"\n",
    "    print(number*number)\n",
    "# print (negativecheck(100))\n",
    "# print (negativecheck(-350))"
   ]
  },
  {
   "cell_type": "code",
   "execution_count": null,
   "id": "9758920d-9317-43dd-86e3-571ff47c4ffb",
   "metadata": {},
   "outputs": [],
   "source": [
    "count = 0\n",
    "def fun1(denom):\n",
    "    global count\n",
    "    try:\n",
    "        numerator=50\n",
    "        denom = int(denom)\n",
    "        count += 1\n",
    "    except ZeroDivisionError:\n",
    "        count += 3\n",
    "    except TypeError:\n",
    "        count += 5\n",
    "    finally:\n",
    "        count += 7\n",
    "try:\n",
    "    fun1(30)\n",
    "    # fun1(0)\n",
    "    # fun1(\"ab\")\n",
    "except ValueError:\n",
    "    count += 9\n",
    "finally:\n",
    "    count += 11\n",
    "print(count)   "
   ]
  },
  {
   "cell_type": "code",
   "execution_count": null,
   "id": "6671d32f-78c3-4f66-9a49-c3e46cd9dfb1",
   "metadata": {},
   "outputs": [],
   "source": [
    "print (\" Learning Exceptions...\")\n",
    "try:\n",
    "    num1= int(input (\"Enter the first number\"))\n",
    "    num2=int(input(\"Enter the second number\"))\n",
    "    quotient=(num1/num2)\n",
    "    print (\"Both the numbers entered were correct\")\n",
    "except _: # to enter only integers\n",
    "    print (\" Please enter only numbers\")\n",
    "except _: # Denominator should not be zero\n",
    "    print(\" Number 2 should not be zero\")\n",
    "else:\n",
    "    print(\" Great .. you are a good programmer\")\n",
    "_: # to be executed at the end\n",
    "    print(\" JOB OVER... GO GET SOME REST\")"
   ]
  },
  {
   "cell_type": "code",
   "execution_count": null,
   "id": "7c4e7d2c-fb30-417c-b63c-fcff038e2c97",
   "metadata": {},
   "outputs": [],
   "source": [
    "def fun(param_one):\n",
    "    print(\"Inside function\",param_one)\n",
    "    list2 = [12,34,45,10]\n",
    "    if(param_one not in list2):\n",
    "        list2.append(-30)\n",
    "    else:\n",
    "        list2*2\n",
    "        list2.append(60)\n",
    "    return list2 #[12,34,45,10,12,34,45,10,60]\n",
    "out1 = fun(30) #out1 = [12,34,45,10,-30]\n",
    "print(out1)\n",
    "out2 = fun(12) #out2 = [12,34,45,10,12,34,45,10,60]\n",
    "print(out2)\n",
    "print(out1[1] + out2[-1])"
   ]
  },
  {
   "cell_type": "code",
   "execution_count": null,
   "id": "21fdea60-50b0-4a06-b2ff-64d168af355b",
   "metadata": {},
   "outputs": [],
   "source": [
    "list1 = [12,45,67,87]\n",
    "iteration = 0\n",
    "for i in list1:\n",
    "    iteration += 1\n",
    "    print(\"Iteration: \",iteration,\"element: \",i )\n",
    "\n",
    "list1 = [12,45,67,87]\n",
    "for i in range(0,len(list1)): #range(0,4) [0,1,2,3]\n",
    "    print(i,list1[i]) #0 12 \n"
   ]
  },
  {
   "cell_type": "code",
   "execution_count": null,
   "id": "7c8a0d8f-a77e-4607-8163-7030a16b328f",
   "metadata": {},
   "outputs": [],
   "source": [
    "# import mysql.connector as mytor\n",
    "\n",
    "#To delete rows where date of purchase whre date of purchase was before 2nd\n",
    "# December 2022\n",
    "\n",
    "# change the name of the books to upper case\n",
    "# update books set name = upper(name)\n"
   ]
  },
  {
   "cell_type": "code",
   "execution_count": 14,
   "id": "b5fdb8af-ff42-463c-ae9e-ab48d62608a6",
   "metadata": {},
   "outputs": [
    {
     "name": "stdout",
     "output_type": "stream",
     "text": [
      "30 50 60\n"
     ]
    }
   ],
   "source": [
    "def fun(a,b,c=200):\n",
    "    print(a,b,c)\n",
    "fun(30,50,60)"
   ]
  },
  {
   "cell_type": "code",
   "execution_count": 20,
   "id": "a4b38252-ced2-43ec-b4cf-c393bdef7a15",
   "metadata": {},
   "outputs": [
    {
     "name": "stdout",
     "output_type": "stream",
     "text": [
      "50 50 20\n"
     ]
    }
   ],
   "source": [
    "def fun(a,b,c=200):\n",
    "    print(a,b,c)\n",
    "fun(b=50,a=50,c=20)"
   ]
  },
  {
   "cell_type": "code",
   "execution_count": 22,
   "id": "067498f7-c3bc-4fcc-a192-ada0f3e60e45",
   "metadata": {},
   "outputs": [
    {
     "name": "stdout",
     "output_type": "stream",
     "text": [
      "50 20 50\n"
     ]
    }
   ],
   "source": [
    "def fun(a,b,c=200):\n",
    "    print(a,b,c)\n",
    "fun(50,c=50,b=20)"
   ]
  },
  {
   "cell_type": "code",
   "execution_count": 17,
   "id": "409a9a42-6952-43bd-a023-37f816f74988",
   "metadata": {},
   "outputs": [
    {
     "ename": "SyntaxError",
     "evalue": "non-default argument follows default argument (1967165135.py, line 1)",
     "output_type": "error",
     "traceback": [
      "\u001b[1;36m  Cell \u001b[1;32mIn[17], line 1\u001b[1;36m\u001b[0m\n\u001b[1;33m    def fun(a,b=100,c):\u001b[0m\n\u001b[1;37m                    ^\u001b[0m\n\u001b[1;31mSyntaxError\u001b[0m\u001b[1;31m:\u001b[0m non-default argument follows default argument\n"
     ]
    }
   ],
   "source": [
    "def fun(a,b=100,c):\n",
    "    print(a,b,c)\n",
    "fun(50,b=50,a=20)"
   ]
  },
  {
   "cell_type": "code",
   "execution_count": 18,
   "id": "c3f30eaa-0b93-41cb-9ecc-3a7226512177",
   "metadata": {},
   "outputs": [
    {
     "ename": "TypeError",
     "evalue": "fun() got multiple values for argument 'a'",
     "output_type": "error",
     "traceback": [
      "\u001b[1;31m---------------------------------------------------------------------------\u001b[0m",
      "\u001b[1;31mTypeError\u001b[0m                                 Traceback (most recent call last)",
      "Cell \u001b[1;32mIn[18], line 3\u001b[0m\n\u001b[0;32m      1\u001b[0m \u001b[38;5;28;01mdef\u001b[39;00m \u001b[38;5;21mfun\u001b[39m(a,b,c\u001b[38;5;241m=\u001b[39m\u001b[38;5;241m200\u001b[39m):\n\u001b[0;32m      2\u001b[0m     \u001b[38;5;28mprint\u001b[39m(a,b,c)\n\u001b[1;32m----> 3\u001b[0m \u001b[43mfun\u001b[49m\u001b[43m(\u001b[49m\u001b[38;5;241;43m50\u001b[39;49m\u001b[43m,\u001b[49m\u001b[43mb\u001b[49m\u001b[38;5;241;43m=\u001b[39;49m\u001b[38;5;241;43m50\u001b[39;49m\u001b[43m,\u001b[49m\u001b[43ma\u001b[49m\u001b[38;5;241;43m=\u001b[39;49m\u001b[38;5;241;43m20\u001b[39;49m\u001b[43m)\u001b[49m\n",
      "\u001b[1;31mTypeError\u001b[0m: fun() got multiple values for argument 'a'"
     ]
    }
   ],
   "source": [
    "def fun(a,b,c=200):\n",
    "    print(a,b,c)\n",
    "fun(50,b=50,a=20)"
   ]
  },
  {
   "cell_type": "code",
   "execution_count": 19,
   "id": "18b5871f-cab4-40fe-ae71-148d1d628c08",
   "metadata": {},
   "outputs": [
    {
     "ename": "TypeError",
     "evalue": "fun() got multiple values for argument 'a'",
     "output_type": "error",
     "traceback": [
      "\u001b[1;31m---------------------------------------------------------------------------\u001b[0m",
      "\u001b[1;31mTypeError\u001b[0m                                 Traceback (most recent call last)",
      "Cell \u001b[1;32mIn[19], line 3\u001b[0m\n\u001b[0;32m      1\u001b[0m \u001b[38;5;28;01mdef\u001b[39;00m \u001b[38;5;21mfun\u001b[39m(a,b,c\u001b[38;5;241m=\u001b[39m\u001b[38;5;241m200\u001b[39m):\n\u001b[0;32m      2\u001b[0m     \u001b[38;5;28mprint\u001b[39m(a,b,c)\n\u001b[1;32m----> 3\u001b[0m \u001b[43mfun\u001b[49m\u001b[43m(\u001b[49m\u001b[38;5;241;43m50\u001b[39;49m\u001b[43m,\u001b[49m\u001b[43mc\u001b[49m\u001b[38;5;241;43m=\u001b[39;49m\u001b[38;5;241;43m50\u001b[39;49m\u001b[43m,\u001b[49m\u001b[43ma\u001b[49m\u001b[38;5;241;43m=\u001b[39;49m\u001b[38;5;241;43m20\u001b[39;49m\u001b[43m)\u001b[49m\n",
      "\u001b[1;31mTypeError\u001b[0m: fun() got multiple values for argument 'a'"
     ]
    }
   ],
   "source": [
    "def fun(a,b,c=200):\n",
    "    print(a,b,c)\n",
    "fun(50,c=50,a=20)"
   ]
  }
 ],
 "metadata": {
  "kernelspec": {
   "display_name": "Python 3 (ipykernel)",
   "language": "python",
   "name": "python3"
  },
  "language_info": {
   "codemirror_mode": {
    "name": "ipython",
    "version": 3
   },
   "file_extension": ".py",
   "mimetype": "text/x-python",
   "name": "python",
   "nbconvert_exporter": "python",
   "pygments_lexer": "ipython3",
   "version": "3.11.5"
  }
 },
 "nbformat": 4,
 "nbformat_minor": 5
}
