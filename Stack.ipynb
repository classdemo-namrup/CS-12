{
 "cells": [
  {
   "cell_type": "code",
   "execution_count": 4,
   "id": "a0095a4f-4c09-41a5-8a2c-8d61a06df79d",
   "metadata": {},
   "outputs": [
    {
     "name": "stdout",
     "output_type": "stream",
     "text": [
      "22 <- top\n",
      "Elements:\n",
      "22\n",
      "14\n",
      ":stack empty\n",
      "-1\n"
     ]
    }
   ],
   "source": [
    "def isEmpty(stk):\n",
    "    if stk == []:\n",
    "        return True\n",
    "    else:\n",
    "        return False\n",
    "\n",
    "def push(stk, item):\n",
    "    stk.append (item)\n",
    "    global top\n",
    "    top += 1\n",
    "\n",
    "def pop(stk):\n",
    "    if isEmpty(stk):\n",
    "        return \"underflow error\"\n",
    "    else:\n",
    "        item = stk.pop()    \n",
    "        global top\n",
    "        top -= 1\n",
    "    return item\n",
    "\n",
    "def peek(stk):\n",
    "    if isEmpty(stk):\n",
    "        return \"underflow\"\n",
    "    return stk[top]\n",
    "\n",
    "def display(stk):\n",
    "    if isEmpty(stk):\n",
    "        print(\":stack empty\")\n",
    "    else:\n",
    "        print (stk[top], \"<- top\" )\n",
    "        print(\"Elements:\")\n",
    "        for a in range (top, -1,  -1 ):\n",
    "            print(stk[a])\n",
    "s = []\n",
    "top = -1\n",
    "push(s,14)\n",
    "push(s,22)\n",
    "push(s,13)\n",
    "push(s,33)\n",
    "pop(s)\n",
    "pop(s)\n",
    "display(s)\n",
    "pop(s)\n",
    "pop(s)\n",
    "pop(s)\n",
    "display(s)\n",
    "print(top)"
   ]
  },
  {
   "cell_type": "code",
   "execution_count": 2,
   "id": "c251780e-c14f-44bf-a8e9-6802267eacf7",
   "metadata": {},
   "outputs": [
    {
     "name": "stdout",
     "output_type": "stream",
     "text": [
      ":stack empty\n",
      "-1\n"
     ]
    }
   ],
   "source": []
  }
 ],
 "metadata": {
  "kernelspec": {
   "display_name": "Python 3 (ipykernel)",
   "language": "python",
   "name": "python3"
  },
  "language_info": {
   "codemirror_mode": {
    "name": "ipython",
    "version": 3
   },
   "file_extension": ".py",
   "mimetype": "text/x-python",
   "name": "python",
   "nbconvert_exporter": "python",
   "pygments_lexer": "ipython3",
   "version": "3.11.5"
  }
 },
 "nbformat": 4,
 "nbformat_minor": 5
}
