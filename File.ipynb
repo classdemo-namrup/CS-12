{
 "cells": [
  {
   "cell_type": "code",
   "execution_count": 12,
   "id": "bd1bd8c4-5cdb-457d-8599-2eb4fa342988",
   "metadata": {},
   "outputs": [
    {
     "name": "stdout",
     "output_type": "stream",
     "text": [
      "0\n",
      "this \n",
      "2\n",
      "is is\n"
     ]
    }
   ],
   "source": [
    "f = open(\"temp.txt\",\"r\")\n",
    "print(f.tell())\n",
    "b  = f.read(5)\n",
    "f.seek(2,0) #0,1,2 => for text file only 0 is valid value, for binary files\n",
    "            #all three values are allowed\n",
    "            #if no argument is passeed for second parameter of seek 0 is the default parameter\n",
    "\n",
    "print(b)\n",
    "print(f.tell())\n",
    "#read and write in file starts from the\n",
    "#position of file pointer\n",
    "c = f.read(5)\n",
    "print(c)"
   ]
  },
  {
   "cell_type": "code",
   "execution_count": 8,
   "id": "5719b4e5-58b1-4876-bfe1-da6cae8fcd03",
   "metadata": {},
   "outputs": [
    {
     "name": "stdout",
     "output_type": "stream",
     "text": [
      "['this', 'is', 'random', 'file', 'find', 'out', 'the', 'occurance', 'of', 'is', 'in', 'the', 'file']\n",
      "2\n"
     ]
    }
   ],
   "source": [
    "f = open(\"temp.txt\",\"r\")\n",
    "a = f.read()\n",
    "print(a.split())\n",
    "words = a.split()\n",
    "count = 0\n",
    "for word in words:\n",
    "    if(word == \"is\"):\n",
    "        count += 1\n",
    "print(count)"
   ]
  },
  {
   "cell_type": "code",
   "execution_count": 2,
   "id": "f21ce51d-b566-47dd-9745-7c0e6a9ea3c1",
   "metadata": {},
   "outputs": [
    {
     "name": "stdout",
     "output_type": "stream",
     "text": [
      "€\u0004•\u000b",
      "\u0000\u0000\u0000\u0000\u0000\u0000\u0000]”(K\n",
      "K\u0014K\u001e",
      "e.\n"
     ]
    }
   ],
   "source": [
    "data = f.read()\n",
    "print(data)"
   ]
  },
  {
   "cell_type": "code",
   "execution_count": 11,
   "id": "5ed212ee-9d97-4b36-8934-53c1c53b1133",
   "metadata": {},
   "outputs": [
    {
     "name": "stdout",
     "output_type": "stream",
     "text": [
      "31\n",
      "\n"
     ]
    }
   ],
   "source": [
    "print(f.tell())\n",
    "data = f.read(10)\n",
    "print(data)\n",
    "f.close()"
   ]
  },
  {
   "cell_type": "code",
   "execution_count": 13,
   "id": "3d098faa-dd72-4b50-950c-a9f2c093747e",
   "metadata": {},
   "outputs": [
    {
     "name": "stdout",
     "output_type": "stream",
     "text": [
      "1:abc:500\n",
      "2:\n"
     ]
    }
   ],
   "source": [
    "f = open(\"temp.txt\",\"r\")\n",
    "data = f.read(12)\n",
    "print(data)"
   ]
  },
  {
   "cell_type": "code",
   "execution_count": 15,
   "id": "4de7304d-4e1e-44fc-8903-c9cb750186fb",
   "metadata": {},
   "outputs": [
    {
     "name": "stdout",
     "output_type": "stream",
     "text": [
      "26\n",
      "m:800\n",
      "31\n"
     ]
    }
   ],
   "source": [
    "print(f.tell())\n",
    "data = f.read(12)\n",
    "print(data)\n",
    "print(f.tell())"
   ]
  },
  {
   "cell_type": "code",
   "execution_count": 21,
   "id": "37a10cc3-c1c6-4937-9782-837cb10209db",
   "metadata": {},
   "outputs": [
    {
     "name": "stdout",
     "output_type": "stream",
     "text": [
      "1:abc:500\n",
      "\n"
     ]
    }
   ],
   "source": [
    "f = open(\"temp.txt\",\"r\")\n",
    "data = f.readline()\n",
    "print(data)"
   ]
  },
  {
   "cell_type": "code",
   "execution_count": 22,
   "id": "4d88228b-042b-4735-902b-ce18439d5a75",
   "metadata": {},
   "outputs": [
    {
     "name": "stdout",
     "output_type": "stream",
     "text": [
      "11\n",
      "2:def:900\n",
      "\n",
      "22\n"
     ]
    }
   ],
   "source": [
    "print(f.tell())\n",
    "print(f.readline())\n",
    "print(f.tell())"
   ]
  },
  {
   "cell_type": "code",
   "execution_count": 23,
   "id": "c4b9881f-111f-4236-9559-0b805509a809",
   "metadata": {},
   "outputs": [
    {
     "name": "stdout",
     "output_type": "stream",
     "text": [
      "3:klm\n",
      "27\n"
     ]
    }
   ],
   "source": [
    "print(f.readline(5))\n",
    "print(f.tell())"
   ]
  },
  {
   "cell_type": "code",
   "execution_count": 28,
   "id": "994003f2-96f3-4ef6-9f04-eedbc6f10d0e",
   "metadata": {},
   "outputs": [
    {
     "data": {
      "text/plain": [
       "5"
      ]
     },
     "execution_count": 28,
     "metadata": {},
     "output_type": "execute_result"
    }
   ],
   "source": [
    "f.seek(5,0)"
   ]
  },
  {
   "cell_type": "code",
   "execution_count": 25,
   "id": "66e6e2a2-c46a-4a5e-b862-3a826b8b9677",
   "metadata": {},
   "outputs": [
    {
     "name": "stdout",
     "output_type": "stream",
     "text": [
      "5\n"
     ]
    }
   ],
   "source": [
    "print(f.tell())"
   ]
  },
  {
   "cell_type": "code",
   "execution_count": 26,
   "id": "083169e4-6a6b-46ae-8d47-bd6545ea176e",
   "metadata": {},
   "outputs": [
    {
     "name": "stdout",
     "output_type": "stream",
     "text": [
      ":500\n",
      "2:def:900\n",
      "3:klm:800\n"
     ]
    }
   ],
   "source": [
    "print(f.read())"
   ]
  },
  {
   "cell_type": "code",
   "execution_count": 30,
   "id": "664fb8f7-e6fa-4fcb-a7ff-d642e83e5098",
   "metadata": {},
   "outputs": [
    {
     "name": "stdout",
     "output_type": "stream",
     "text": [
      "['1:abc:500\\n', '2:def:900\\n', '3:klm:800']\n"
     ]
    }
   ],
   "source": [
    "f = open(\"temp.txt\",\"r\")\n",
    "data = f.readlines()\n",
    "print(data)"
   ]
  },
  {
   "cell_type": "code",
   "execution_count": 31,
   "id": "0a433c2f-609d-4e72-af88-99f5e1495888",
   "metadata": {},
   "outputs": [
    {
     "name": "stdout",
     "output_type": "stream",
     "text": [
      "ok\n"
     ]
    }
   ],
   "source": [
    "for line in data:\n",
    "    if line[-1] == '0':\n",
    "        print(\"ok\")"
   ]
  },
  {
   "cell_type": "code",
   "execution_count": null,
   "id": "55c2d79b-555f-48e3-8a12-f28aa66f0910",
   "metadata": {
    "scrolled": true
   },
   "outputs": [],
   "source": [
    "f = open(\"temp.txt\",\"r\")\n",
    "content = f.read() \n",
    "for char in content:\n",
    "    print(char)\n",
    "print(type(content))\n",
    "print(content)\n",
    "\n",
    "# c2 = f.read() #Reading again will give empty string\n",
    "# print(\"Content of c2:\",c2)"
   ]
  },
  {
   "cell_type": "code",
   "execution_count": 39,
   "id": "377a7801-e591-4e63-b4fb-94c60276dcac",
   "metadata": {},
   "outputs": [
    {
     "name": "stdout",
     "output_type": "stream",
     "text": [
      "<class 'list'>\n",
      "['1:abc:500\\n', '2:def:900\\n', '3:klm:800']\n",
      "1:abc:500\n",
      "\n",
      "2:def:900\n",
      "\n",
      "3:klm:800\n"
     ]
    }
   ],
   "source": [
    "f = open(\"temp.txt\",\"r\")\n",
    "content = f.readlines()\n",
    "print(type(content))\n",
    "print(content)\n",
    "for line in content:\n",
    "    print(line)"
   ]
  },
  {
   "cell_type": "code",
   "execution_count": 43,
   "id": "d608b662-3445-4552-b4c5-cb23bebd08b8",
   "metadata": {},
   "outputs": [
    {
     "name": "stdout",
     "output_type": "stream",
     "text": [
      "0\n",
      "['\\n', ' ok']\n"
     ]
    }
   ],
   "source": [
    "# f = open(\"temp.txt\",\"r+\") #file pointer is 0, but file should be there\n",
    "# f = open(\"temp1.txt\",\"w\") #file pointer is 0,if file is not there it is created\n",
    "f = open(\"temp1.txt\",\"w+\") #file pointer is 0,if file is not there it is created, file is readable also\n",
    "print(f.tell())\n",
    "f.write(\"\\n ok\")\n",
    "f.flush()\n",
    "f.close()\n",
    "# f = open(\"temp1.txt\",\"r\")\n",
    "print(f.readlines())"
   ]
  },
  {
   "cell_type": "code",
   "execution_count": 46,
   "id": "d21c8a6e-a4ea-4d9b-9983-70c3b2e8fa08",
   "metadata": {},
   "outputs": [
    {
     "data": {
      "text/plain": [
       "['abcd']"
      ]
     },
     "execution_count": 46,
     "metadata": {},
     "output_type": "execute_result"
    }
   ],
   "source": [
    "f = open(\"temp1.txt\",\"w+\")\n",
    "f.writelines([\"ab\",\"cd\"]) #The writelines() method writes the items of a list to the file.\n",
    "f.flush()\n",
    "f.close()\n",
    "f = open(\"temp1.txt\",\"r\")\n",
    "f.readlines()"
   ]
  },
  {
   "cell_type": "code",
   "execution_count": 47,
   "id": "2066fad0-0bd8-4ca4-ac60-bcf1a9f37f5e",
   "metadata": {},
   "outputs": [
    {
     "data": {
      "text/plain": [
       "['ab\\n', 'cd\\n']"
      ]
     },
     "execution_count": 47,
     "metadata": {},
     "output_type": "execute_result"
    }
   ],
   "source": [
    "f = open(\"temp1.txt\",\"w+\")\n",
    "f.writelines([\"ab\\n\",\"cd\\n\"]) #The writelines() method writes the items of a list to the file.\n",
    "f.flush()\n",
    "f.close()\n",
    "f = open(\"temp1.txt\",\"r\")\n",
    "f.readlines()"
   ]
  },
  {
   "cell_type": "code",
   "execution_count": null,
   "id": "9bb13313-d41e-4b12-be6d-ca497dfc2cfd",
   "metadata": {},
   "outputs": [],
   "source": [
    "import io\n",
    "import numpy as np\n",
    "\n",
    "arr  =[137,80,78,71,13,10,26,10,0,0,0,13,73,72,68,82,0,0,0,200,0,0,0,200,8,6,0,0,0,173,88,174,158,0,0,0,4,115,66,73,84,8,8,8,8,124,8,100,136,0,0,0,9,112,72,89,115,0,0,11,19,0,0,11,19,1,0,154,156,24,0,0,3,43,73,68,65,84,120,156,237,221,193,110,163,48,20,64,209,206,168,255,255,203,51,251,44,174,21,192,177,33,231,236,41,52,237,149,37,30,14,63,63,0,0,0,0,0,0,0,0,0,0,19,253,57,120,220,191,75,175,98,236,232,117,114,15,219,254,63,253,157,121,21,112,119,2,129,32,16,8,2,129,32,16,8,2,129,32,16,8,191,147,126,174,185,5,239,184,250,255,229,178,185,138,21,4,130,64,32,8,4,130,64,32,8,4,130,64,32,8,4,130,64,32,8,4,130,64,32,8,4,194,172,103,177,222,245,233,61,201,239,58,251,172,208,236,223,111,247,235,59,107,217,179,125,86,16,8,2,129,32,16,8,2,129,32,16,8,2,129,32,16,8,71,231,32,159,190,47,61,251,124,103,231,0,163,227,103,207,41,102,159,127,247,207,255,213,101,215,107,5,129,32,16,8,2,129,32,16,8,2,129,32,16,8,2,129,176,203,126,144,179,102,207,1,70,86,239,199,88,253,93,200,171,63,255,105,172,32,16,4,2,65,32,16,4,2,65,32,16,4,2,65,32,16,158,50,7,89,125,159,253,238,251,49,206,218,253,250,14,179,130,64,16,8,4,129,64,16,8,4,129,64,16,8,4,129,64,184,203,28,228,238,239,175,56,59,39,89,189,223,98,247,207,127,26,43,8,4,129,64,16,8,4,129,64,16,8,4,129,64,16,8,132,199,62,199,255,97,171,223,15,226,239,56,137,21,4,130,64,32,8,4,130,64,32,8,4,130,64,32,8,4,194,183,236,7,121,250,126,139,213,251,77,86,127,126,211,88,65,32,8,4,130,64,32,8,4,130,64,32,8,4,130,64,32,236,50,7,217,125,63,197,234,227,207,90,125,254,145,109,175,207,10,2,65,32,16,4,2,65,32,16,4,2,65,32,16,4,2,97,245,253,239,171,124,251,156,98,245,241,35,179,247,243,76,99,5,129,32,16,8,2,129,32,16,8,2,129,32,16,8,2,129,176,203,28,100,246,125,252,145,217,63,223,249,207,157,127,25,43,8,4,129,64,16,8,4,129,64,16,8,4,129,64,16,8,132,109,239,63,191,184,251,126,135,167,255,252,213,199,79,99,5,129,32,16,8,2,129,32,16,8,2,129,32,16,8,2,129,112,151,57,200,200,234,253,32,171,143,31,121,202,223,249,227,172,32,16,4,2,65,32,16,4,2,65,32,16,4,2,65,32,16,238,242,158,244,145,213,239,175,152,109,245,251,73,86,179,31,4,118,36,16,8,2,129,32,16,8,2,129,32,16,8,2,129,176,203,28,100,228,233,251,37,118,127,255,198,215,206,97,172,32,16,4,2,65,32,16,4,2,65,32,16,4,2,65,32,16,118,153,131,220,253,62,253,232,252,187,127,111,214,89,219,190,223,227,44,43,8,4,129,64,16,8,4,129,64,16,8,4,129,64,16,8,132,93,230,32,171,239,227,143,172,126,15,249,200,234,57,195,234,243,79,99,5,129,32,16,8,2,129,32,16,8,2,129,32,16,8,2,129,112,116,14,242,233,231,255,87,239,167,120,250,123,216,71,118,159,83,189,186,236,243,176,130,64,16,8,4,129,64,16,8,4,129,64,16,8,4,129,64,56,122,127,252,177,223,131,196,35,152,131,192,39,8,4,130,64,32,8,4,130,64,32,8,4,130,64,32,8,4,130,64,32,8,4,130,64,32,204,250,110,222,171,247,48,123,182,235,217,182,221,243,110,5,129,32,16,8,2,129,32,16,8,2,129,32,16,8,2,1,0,0,0,0,0,0,0,0,56,239,63,169,44,80,125,75,214,2,231,0,0,0,0,73,69,78,68,174,66,96,130]\n",
    "\n",
    "arr = np.array(arr, dtype=np.uint8)\n",
    "np.set_printoptions(formatter={'int':hex})\n",
    "arr=np.array(arr)\n",
    "print(arr)\n",
    "f=open(\"QR icon.png\",\"wb\")\n",
    "f.write(arr.tobytes())\n",
    "f.close()"
   ]
  },
  {
   "cell_type": "code",
   "execution_count": null,
   "id": "8d23ce89-8c56-4b30-b243-6b117472ecf5",
   "metadata": {},
   "outputs": [],
   "source": [
    "f = open(\"QR icon.png\",\"rb\")\n",
    "content = f.readlines()\n",
    "print(type(content))\n",
    "# print(content)\n",
    "for line in content[0:4]:\n",
    "    print(line)"
   ]
  },
  {
   "cell_type": "code",
   "execution_count": 16,
   "id": "9afd7762-e798-4c29-8b1a-e351016a60e9",
   "metadata": {},
   "outputs": [
    {
     "name": "stdout",
     "output_type": "stream",
     "text": [
      "[10, 20, 30]\n",
      "{1: 10, 2: 20}\n",
      "All file content loaded\n"
     ]
    }
   ],
   "source": [
    "#Seialize: converting from python object to bytestream\n",
    "#de-serialize: converting from bytestream to python object\n",
    "import pickle\n",
    "a = [10,20,30]\n",
    "b = {1:10,2:20} #Give example of mix pickle\n",
    "f = open(\"temp.dat\", 'wb+')\n",
    "pickle.dump(a,f) #Serializing\n",
    "pickle.dump(b,f)\n",
    "f.close()\n",
    "f = open(\"temp.dat\", 'rb')\n",
    "try:\n",
    "    while True:\n",
    "        data = pickle.load(f) #deserializing\n",
    "        print(data)\n",
    "except:\n",
    "    print(\"All file content loaded\")\n",
    "finally:\n",
    "    f.close()"
   ]
  }
 ],
 "metadata": {
  "kernelspec": {
   "display_name": "Python 3 (ipykernel)",
   "language": "python",
   "name": "python3"
  },
  "language_info": {
   "codemirror_mode": {
    "name": "ipython",
    "version": 3
   },
   "file_extension": ".py",
   "mimetype": "text/x-python",
   "name": "python",
   "nbconvert_exporter": "python",
   "pygments_lexer": "ipython3",
   "version": "3.11.5"
  }
 },
 "nbformat": 4,
 "nbformat_minor": 5
}
